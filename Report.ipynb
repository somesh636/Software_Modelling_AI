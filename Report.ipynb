{
 "cells": [
  {
   "cell_type": "markdown",
   "metadata": {},
   "source": [
    "## Report For Profiling Python Script "
   ]
  },
  {
   "cell_type": "markdown",
   "metadata": {},
   "source": [
    "### 1. [Py-spy](https://github.com/benfred/py-spy.git)\n",
    "\n",
    "![Alt text](profile.svg)\n",
    "\n"
   ]
  },
  {
   "cell_type": "markdown",
   "metadata": {},
   "source": [
    "This is a simple way to generate the flame graph for the python file. It can be done using the following command. I think this is the easiest way to generate FlameGraph for any python file. \n",
    "* py-spy record -o profile.svg -- python myprogram.py"
   ]
  },
  {
   "cell_type": "markdown",
   "metadata": {},
   "source": [
    "### 2. Using torch bottleneck utility function \n",
    "I ran this on my local system and got some data related to GPU/CPU usage which is shown in the image. I tried to get the profile data but I am not able to get the .data file so I could not generate the Flame Graph.\n",
    "\n",
    "\n",
    "\n"
   ]
  },
  {
   "cell_type": "markdown",
   "metadata": {},
   "source": [
    "#### CProfiler_Output\n",
    "\n",
    "![Alt text](CProfile_Output.png)\n"
   ]
  },
  {
   "cell_type": "markdown",
   "metadata": {},
   "source": [
    "#### AutoGrad Profiler Output CPU Mode\n",
    "![Alt Text](autograd_Profile_Output_CPUMode.png)\n"
   ]
  },
  {
   "cell_type": "markdown",
   "metadata": {},
   "source": [
    "#### AutoGrad Profiler Output GPU Mode \n",
    "![Alt Text](AutoGrad_Profiler_Output_GPUMode.png)\n",
    "\n",
    "I will try to find the issue with generating .data file to generate the flame graph for this data."
   ]
  },
  {
   "cell_type": "markdown",
   "metadata": {},
   "source": [
    "#### 3. Pyflame FlameGraph \n",
    "I tried this library [pyflame](https://github.com/uber-archive/pyflame) for generating the [FlameGraph](https://github.com/brendangregg/FlameGraph) for the python script but the .data file is not generated. I get the Error \"Failed to locate libpython within timeout period\". Further analysis into the error I found this [post](https://github.com/uber-archive/pyflame/issues/120) which says that there are some issue with python 3.7 version for generation of flamegraph. I think this library can be used for generating the FlameGraph by using python 3.4 version. As for now I have python 3.7.7 on my system so I will setup a venv for this and try to generate flame graph using this library.  "
   ]
  },
  {
   "cell_type": "markdown",
   "metadata": {},
   "source": [
    "I have update all the output mentioned here in the below github link for your reference. \n",
    "* https://github.com/somesh636/Software_Modelling_AI\n",
    "\n",
    "I have successfully run the example_usage.py file on the google colab just to check if it can be done. The file \"Profiling_lstm.ipynb\" can be directly run on to google colab which is a copy of example_usage.py file. "
   ]
  }
 ],
 "metadata": {
  "kernelspec": {
   "display_name": "Python 3",
   "language": "python",
   "name": "python3"
  },
  "language_info": {
   "codemirror_mode": {
    "name": "ipython",
    "version": 3
   },
   "file_extension": ".py",
   "mimetype": "text/x-python",
   "name": "python",
   "nbconvert_exporter": "python",
   "pygments_lexer": "ipython3",
   "version": "3.7.4"
  }
 },
 "nbformat": 4,
 "nbformat_minor": 2
}
